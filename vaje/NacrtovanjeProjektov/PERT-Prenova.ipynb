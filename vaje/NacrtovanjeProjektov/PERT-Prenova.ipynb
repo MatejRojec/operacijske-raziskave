{
 "cells": [
  {
   "cell_type": "markdown",
   "metadata": {},
   "source": [
    "# Prenova viadukta\n",
    "\n",
    "Pri gradbenem podjetju razmišljajo, da bi se prijavili na razpis za prenovo avtocestnega viadukta.\n",
    "Identificirali so pet nalog:"
   ]
  },
  {
   "cell_type": "code",
   "execution_count": 1,
   "metadata": {},
   "outputs": [],
   "source": [
    "naloge <- c('A', 'B', 'C', 'D', 'E')\n",
    "tmin <- setNames(c(3, 2, 3, 1, 2), naloge) # najkrajše trajanje\n",
    "tnaj <- setNames(c(4, 2, 5, 3, 3), naloge) # najbolj verjetno trajanje\n",
    "tmax <- setNames(c(5, 2, 6, 5, 5), naloge) # najdaljše trajanje\n",
    "pogoji <- setNames(c('', 'A' ,'B', 'A', 'BD'), naloge)"
   ]
  },
  {
   "cell_type": "markdown",
   "metadata": {},
   "source": [
    "Če bodo izbrani za izvedbo del, si obetajo zaslužek v višini 250.000€. Če del ne bodo končali v roku 11 tednov, bodo morali plačati pogodbeno kazen v višini 500.000€."
   ]
  },
  {
   "cell_type": "markdown",
   "metadata": {},
   "source": [
    "## Povprečna kritična pot\n",
    "\n",
    "Ocenimo povprečna trajanja in variance za vsako opravilo."
   ]
  },
  {
   "cell_type": "code",
   "execution_count": 2,
   "metadata": {},
   "outputs": [
    {
     "data": {
      "text/html": [
       "<table>\n",
       "<thead><tr><th></th><th scope=col>tmin</th><th scope=col>tnaj</th><th scope=col>tmax</th><th scope=col>pogoji</th><th scope=col>tpovp</th><th scope=col>tvar</th></tr></thead>\n",
       "<tbody>\n",
       "\t<tr><th scope=row>A</th><td>3        </td><td>4        </td><td>5        </td><td>         </td><td>4.000000 </td><td>0.1111111</td></tr>\n",
       "\t<tr><th scope=row>B</th><td>2        </td><td>2        </td><td>2        </td><td>A        </td><td>2.000000 </td><td>0.0000000</td></tr>\n",
       "\t<tr><th scope=row>C</th><td>3        </td><td>5        </td><td>6        </td><td>B        </td><td>4.833333 </td><td>0.2500000</td></tr>\n",
       "\t<tr><th scope=row>D</th><td>1        </td><td>3        </td><td>5        </td><td>A        </td><td>3.000000 </td><td>0.4444444</td></tr>\n",
       "\t<tr><th scope=row>E</th><td>2        </td><td>3        </td><td>5        </td><td>BD       </td><td>3.166667 </td><td>0.2500000</td></tr>\n",
       "</tbody>\n",
       "</table>\n"
      ],
      "text/latex": [
       "\\begin{tabular}{r|llllll}\n",
       "  & tmin & tnaj & tmax & pogoji & tpovp & tvar\\\\\n",
       "\\hline\n",
       "\tA & 3         & 4         & 5         &           & 4.000000  & 0.1111111\\\\\n",
       "\tB & 2         & 2         & 2         & A         & 2.000000  & 0.0000000\\\\\n",
       "\tC & 3         & 5         & 6         & B         & 4.833333  & 0.2500000\\\\\n",
       "\tD & 1         & 3         & 5         & A         & 3.000000  & 0.4444444\\\\\n",
       "\tE & 2         & 3         & 5         & BD        & 3.166667  & 0.2500000\\\\\n",
       "\\end{tabular}\n"
      ],
      "text/markdown": [
       "\n",
       "| <!--/--> | tmin | tnaj | tmax | pogoji | tpovp | tvar | \n",
       "|---|---|---|---|---|\n",
       "| A | 3         | 4         | 5         |           | 4.000000  | 0.1111111 | \n",
       "| B | 2         | 2         | 2         | A         | 2.000000  | 0.0000000 | \n",
       "| C | 3         | 5         | 6         | B         | 4.833333  | 0.2500000 | \n",
       "| D | 1         | 3         | 5         | A         | 3.000000  | 0.4444444 | \n",
       "| E | 2         | 3         | 5         | BD        | 3.166667  | 0.2500000 | \n",
       "\n",
       "\n"
      ],
      "text/plain": [
       "  tmin tnaj tmax pogoji tpovp    tvar     \n",
       "A 3    4    5           4.000000 0.1111111\n",
       "B 2    2    2    A      2.000000 0.0000000\n",
       "C 3    5    6    B      4.833333 0.2500000\n",
       "D 1    3    5    A      3.000000 0.4444444\n",
       "E 2    3    5    BD     3.166667 0.2500000"
      ]
     },
     "metadata": {},
     "output_type": "display_data"
    }
   ],
   "source": [
    "tpovp <- (tmin + 4*tnaj + tmax)/6 # povprečno trajanje\n",
    "tvar <- ((tmax - tmin)/6)^2 # varianca\n",
    "data.frame(tmin, tnaj, tmax, pogoji, tpovp, tvar)"
   ]
  },
  {
   "cell_type": "markdown",
   "metadata": {},
   "source": [
    "Z iskanjem najdaljše poti v grafu, uteženem s povprečnimi trajanji, identificiramo povprečno kritično pot `ABC`. Izračunajmo povprečno dolžino in standardni odklon trajanja povprečne kritične poti."
   ]
  },
  {
   "cell_type": "code",
   "execution_count": 3,
   "metadata": {},
   "outputs": [
    {
     "data": {
      "text/html": [
       "<ol class=list-inline>\n",
       "\t<li>10.8333333333333</li>\n",
       "\t<li>0.600925212577332</li>\n",
       "</ol>\n"
      ],
      "text/latex": [
       "\\begin{enumerate*}\n",
       "\\item 10.8333333333333\n",
       "\\item 0.600925212577332\n",
       "\\end{enumerate*}\n"
      ],
      "text/markdown": [
       "1. 10.8333333333333\n",
       "2. 0.600925212577332\n",
       "\n",
       "\n"
      ],
      "text/plain": [
       "[1] 10.8333333  0.6009252"
      ]
     },
     "metadata": {},
     "output_type": "display_data"
    }
   ],
   "source": [
    "krit <- c('A', 'B', 'C')\n",
    "tkrit <- sum(tpovp[krit]) # povprečna dolžina\n",
    "dkrit <- sqrt(sum(tvar[krit])) # standardni odklon\n",
    "c(tkrit, dkrit)"
   ]
  },
  {
   "cell_type": "markdown",
   "metadata": {},
   "source": [
    "## Verjetnost pravočasnega končanja\n",
    "\n",
    "S pomočjo standardne normalne porazdelitve ocenimo verjetnost, da bo projekt pravočasno končan."
   ]
  },
  {
   "cell_type": "code",
   "execution_count": 5,
   "metadata": {},
   "outputs": [
    {
     "data": {
      "text/html": [
       "0.609244352500644"
      ],
      "text/latex": [
       "0.609244352500644"
      ],
      "text/markdown": [
       "0.609244352500644"
      ],
      "text/plain": [
       "[1] 0.6092444"
      ]
     },
     "metadata": {},
     "output_type": "display_data"
    }
   ],
   "source": [
    "p <- pnorm((11 - tkrit) / dkrit)\n",
    "p"
   ]
  },
  {
   "cell_type": "markdown",
   "metadata": {},
   "source": [
    "Izračunajmo še pričakovani zaslužek.."
   ]
  },
  {
   "cell_type": "code",
   "execution_count": 6,
   "metadata": {},
   "outputs": [
    {
     "data": {
      "text/html": [
       "54622.1762503221"
      ],
      "text/latex": [
       "54622.1762503221"
      ],
      "text/markdown": [
       "54622.1762503221"
      ],
      "text/plain": [
       "[1] 54622.18"
      ]
     },
     "metadata": {},
     "output_type": "display_data"
    }
   ],
   "source": [
    "250000 - (1-p) * 500000"
   ]
  }
 ],
 "metadata": {
  "kernelspec": {
   "display_name": "R",
   "language": "R",
   "name": "ir"
  },
  "language_info": {
   "codemirror_mode": "r",
   "file_extension": ".r",
   "mimetype": "text/x-r-source",
   "name": "R",
   "pygments_lexer": "r",
   "version": "3.3.2"
  }
 },
 "nbformat": 4,
 "nbformat_minor": 2
}
