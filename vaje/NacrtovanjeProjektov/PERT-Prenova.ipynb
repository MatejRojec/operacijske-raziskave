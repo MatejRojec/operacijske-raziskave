{
 "cells": [
  {
   "cell_type": "markdown",
   "metadata": {},
   "source": [
    "# Prenova viadukta\n",
    "\n",
    "Pri gradbenem podjetju razmišljajo, da bi se prijavili na razpis za prenovo avtocestnega viadukta.\n",
    "Identificirali so pet nalog:"
   ]
  },
  {
   "cell_type": "code",
   "execution_count": null,
   "metadata": {},
   "outputs": [],
   "source": [
    "naloge <- c('A', 'B', 'C', 'D', 'E')\n",
    "tmin <- setNames(c(3, 2, 3, 1, 2), naloge) # najkrajše trajanje\n",
    "tnaj <- setNames(c(4, 2, 5, 3, 3), naloge) # najbolj verjetno trajanje\n",
    "tmax <- setNames(c(5, 2, 6, 5, 5), naloge) # najdaljše trajanje\n",
    "pogoji <- setNames(c('', 'A' ,'B', 'A', 'BD'), naloge)"
   ]
  },
  {
   "cell_type": "markdown",
   "metadata": {},
   "source": [
    "Če bodo izbrani za izvedbo del, si obetajo zaslužek v višini 250.000€. Če del ne bodo končali v roku 11 tednov, bodo morali plačati pogodbeno kazen v višini 500.000€."
   ]
  },
  {
   "cell_type": "markdown",
   "metadata": {},
   "source": [
    "## Povprečna kritična pot\n",
    "\n",
    "Ocenimo povprečna trajanja in variance za vsako opravilo."
   ]
  },
  {
   "cell_type": "code",
   "execution_count": null,
   "metadata": {},
   "outputs": [],
   "source": [
    "tpovp <- (tmin + 4*tnaj + tmax)/6 # povprečno trajanje\n",
    "tvar <- ((tmax - tmin)/6)^2 # varianca\n",
    "data.frame(tmin, tnaj, tmax, pogoji, tpovp, tvar)"
   ]
  },
  {
   "cell_type": "markdown",
   "metadata": {},
   "source": [
    "Z iskanjem najdaljše poti v grafu, uteženem s povprečnimi trajanji, identificiramo povprečno kritično pot `ABC`. Izračunajmo povprečno dolžino in standardni odklon trajanja povprečne kritične poti."
   ]
  },
  {
   "cell_type": "code",
   "execution_count": null,
   "metadata": {},
   "outputs": [],
   "source": [
    "krit <- c('A', 'B', 'C')\n",
    "tkrit <- sum(tpovp[krit]) # povprečna dolžina\n",
    "dkrit <- sqrt(sum(tvar[krit])) # standardni odklon\n",
    "c(tkrit, dkrit)"
   ]
  },
  {
   "cell_type": "markdown",
   "metadata": {},
   "source": [
    "## Verjetnost pravočasnega končanja\n",
    "\n",
    "S pomočjo standardne normalne porazdelitve ocenimo verjetnost, da bo projekt pravočasno končan."
   ]
  },
  {
   "cell_type": "code",
   "execution_count": null,
   "metadata": {},
   "outputs": [],
   "source": [
    "pnorm((11 - tkrit) / dkrit)"
   ]
  }
 ],
 "metadata": {
  "kernelspec": {
   "display_name": "R",
   "language": "R",
   "name": "ir"
  },
  "language_info": {
   "codemirror_mode": "r",
   "file_extension": ".r",
   "mimetype": "text/x-r-source",
   "name": "R",
   "pygments_lexer": "r",
   "version": "3.3.2"
  }
 },
 "nbformat": 4,
 "nbformat_minor": 2
}
