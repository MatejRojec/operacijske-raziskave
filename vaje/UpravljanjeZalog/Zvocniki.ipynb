{
 "cells": [
  {
   "cell_type": "markdown",
   "metadata": {},
   "source": [
    "# Zvočniki\n",
    "\n",
    "Tovarna Mitsuzuki načrtuje, da bo naslednje leto izdelala $10000$ stereo televizorjev. Odločijo se, da zvočnikov ne bodo izdelovali sami, ampak jih bodo (po dva za vsak televizor) naročili pri ponudniku najkvalitetnejših zvočnikov, ki je predložil naslednji cenik:\n",
    "\n",
    "| število zvočnikov v enem naročilu | cena zvočnika |\n",
    "|-----------------------------------|---------------|\n",
    "| 1 - 1999                          | $150$ €       |\n",
    "| 2000 - 4999                       | $135$ €       |\n",
    "| 5000 - 7999                       | $125$ €       |\n",
    "| 8000 - 19999                      | $120$ €       |\n",
    "| 20000 ali več                     | $115$ €       |\n",
    "\n",
    "Poleg tega naročilo pošiljke stane Mitsuzuki $500$ €, letni stroški skladiščenja vsakega zvočnika pa znašajo $20\\%$ njegove cene. Koliko zvočnikov naj vsakič naročijo in kakšni so skupni stroški naročil za naslednje leto?"
   ]
  },
  {
   "cell_type": "code",
   "execution_count": 1,
   "metadata": {},
   "outputs": [],
   "source": [
    "K = 500 # cena naročila\n",
    "nu = 20000 # število zvočnikov\n",
    "sf = 0.2 # strošek letnega skladiščenja kot delež cene\n",
    "cene = [150, 135, 125, 120, 115] # cene za kos v odvisnosti od velikosti naročila\n",
    "min_narocilo = [1, 2000, 5000, 8000, 20000] # najmanjša velikost naročila"
   ]
  },
  {
   "cell_type": "markdown",
   "metadata": {},
   "source": [
    "Poglejmo, kakšno je optimalno naročilo pri vsaki ceni zvočnika."
   ]
  },
  {
   "cell_type": "code",
   "execution_count": 2,
   "metadata": {},
   "outputs": [
    {
     "data": {
      "text/plain": [
       "[816.496580927726,\n",
       " 860.662965823870,\n",
       " 894.427190999916,\n",
       " 912.870929175277,\n",
       " 932.504808240314]"
      ]
     },
     "execution_count": 2,
     "metadata": {},
     "output_type": "execute_result"
    }
   ],
   "source": [
    "Mopt = [sqrt(2 * K * nu / (sf * c)) for c in cene]\n",
    "Mopt"
   ]
  },
  {
   "cell_type": "markdown",
   "metadata": {},
   "source": [
    "Le pri najmanjšem naročilu bo dosežena želena cena. Da bi dosegli ostale cene, bomo morali narediti najmanjša možna naročila. Pri vsakem bomo izračunali skupni strošek naročanja in skladiščenja."
   ]
  },
  {
   "cell_type": "code",
   "execution_count": 3,
   "metadata": {},
   "outputs": [
    {
     "data": {
      "text/plain": [
       "[3.02449489742783e6,\n",
       " 2.73200000000000e6,\n",
       " 2.56450000000000e6,\n",
       " 2.49725000000000e6,\n",
       " 2.53050000000000e6]"
      ]
     },
     "execution_count": 3,
     "metadata": {},
     "output_type": "execute_result"
    }
   ],
   "source": [
    "narocila = [max(M, Mmin) for M, Mmin in zip(Mopt, min_narocilo)]\n",
    "S = [M/2 * sf * c + K * nu / M + nu * c for M, c in zip(narocila, cene)]\n",
    "S"
   ]
  },
  {
   "cell_type": "markdown",
   "metadata": {},
   "source": [
    "Opazimo, da najmanjše stroške dosežemo, če $2.5$-krat na leto naročimo po $8000$ zvočnikov po ceni $120$ € na kos."
   ]
  },
  {
   "cell_type": "code",
   "execution_count": 4,
   "metadata": {},
   "outputs": [
    {
     "data": {
      "text/plain": [
       "(2.49725000000000e6, 8000, 120, 2.50000000000000)"
      ]
     },
     "execution_count": 4,
     "metadata": {},
     "output_type": "execute_result"
    }
   ],
   "source": [
    "Smin, i = min((s, i) for i, s in enumerate(S))\n",
    "(Smin, narocila[i], cene[i], n(nu/narocila[i]))"
   ]
  }
 ],
 "metadata": {
  "kernelspec": {
   "display_name": "SageMath 8.2.beta8",
   "language": "",
   "name": "sagemath"
  },
  "language_info": {
   "codemirror_mode": {
    "name": "ipython",
    "version": 2
   },
   "file_extension": ".py",
   "mimetype": "text/x-python",
   "name": "python",
   "nbconvert_exporter": "python",
   "pygments_lexer": "ipython2",
   "version": "2.7.14"
  }
 },
 "nbformat": 4,
 "nbformat_minor": 2
}
