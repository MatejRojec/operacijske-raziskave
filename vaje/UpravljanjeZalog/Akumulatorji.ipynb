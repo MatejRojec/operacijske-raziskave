{
 "cells": [
  {
   "cell_type": "markdown",
   "metadata": {},
   "source": [
    "# Akumulatorji\n",
    "\n",
    "Tovarna avtomobilov za svoje potrebe izdeluje akumulatorje. Vsako leto proizvedejo $10000$ avtomobilov, izdelajo pa lahko $25000$ akumulatorjev letno. Stroški zagona proizvodnje so $200$ €, stroški zaloge pa $0.25$ € letno za vsak akumulator.\n",
    "Primanjkljaja ne dovolimo.\n",
    "\n",
    "Kolikokrat na leto naj zaženejo proizvodnjo akumulatorjev? Koliko časa naj traja proizvodnja?\n",
    "Koliko akumulatorjev naj takrat izdelajo? Kako veliko skladišče potrebujejo?"
   ]
  },
  {
   "cell_type": "code",
   "execution_count": 1,
   "metadata": {},
   "outputs": [],
   "source": [
    "K = 200 # stroški zagona proizvodnje\n",
    "s = 0.25 # letni stroški skladiščenja za kos\n",
    "lm = 25000 # letna proizvodnja\n",
    "nu = 10000 # letna poraba"
   ]
  },
  {
   "cell_type": "markdown",
   "metadata": {},
   "source": [
    "Najprej izračunajmo dolžino cikla (v dneh)."
   ]
  },
  {
   "cell_type": "code",
   "execution_count": 5,
   "metadata": {},
   "outputs": [
    {
     "data": {
      "text/plain": [
       "188.485189515428"
      ]
     },
     "execution_count": 5,
     "metadata": {},
     "output_type": "execute_result"
    }
   ],
   "source": [
    "alpha = nu * (1 - nu / lm)\n",
    "tau = sqrt(2 * K / (s * alpha))\n",
    "tau * 365"
   ]
  },
  {
   "cell_type": "markdown",
   "metadata": {},
   "source": [
    "Izračunajmo še največjo zalogo."
   ]
  },
  {
   "cell_type": "code",
   "execution_count": 6,
   "metadata": {},
   "outputs": [
    {
     "data": {
      "text/plain": [
       "3098.38667696593"
      ]
     },
     "execution_count": 6,
     "metadata": {},
     "output_type": "execute_result"
    }
   ],
   "source": [
    "M = tau * alpha\n",
    "M"
   ]
  },
  {
   "cell_type": "markdown",
   "metadata": {},
   "source": [
    "Poglejmo si, koliko traja posamezna proizvodnja (v dneh)."
   ]
  },
  {
   "cell_type": "code",
   "execution_count": 10,
   "metadata": {},
   "outputs": [
    {
     "data": {
      "text/plain": [
       "75.3940758061710"
      ]
     },
     "execution_count": 10,
     "metadata": {},
     "output_type": "execute_result"
    }
   ],
   "source": [
    "tp = M/(lm - nu)\n",
    "tp * 365"
   ]
  },
  {
   "cell_type": "markdown",
   "metadata": {},
   "source": [
    "Nazadnje izračunajmo še število izdelanih akumulatorjev v posameznem ciklu."
   ]
  },
  {
   "cell_type": "code",
   "execution_count": 11,
   "metadata": {},
   "outputs": [
    {
     "data": {
      "text/plain": [
       "5163.97779494322"
      ]
     },
     "execution_count": 11,
     "metadata": {},
     "output_type": "execute_result"
    }
   ],
   "source": [
    "tau * nu"
   ]
  }
 ],
 "metadata": {
  "kernelspec": {
   "display_name": "SageMath 8.2.beta8",
   "language": "",
   "name": "sagemath"
  },
  "language_info": {
   "codemirror_mode": {
    "name": "ipython",
    "version": 2
   },
   "file_extension": ".py",
   "mimetype": "text/x-python",
   "name": "python",
   "nbconvert_exporter": "python",
   "pygments_lexer": "ipython2",
   "version": "2.7.14"
  }
 },
 "nbformat": 4,
 "nbformat_minor": 2
}
