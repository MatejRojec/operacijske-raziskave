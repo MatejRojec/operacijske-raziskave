{
 "cells": [
  {
   "cell_type": "code",
   "execution_count": 2,
   "metadata": {
    "collapsed": false
   },
   "outputs": [
   ],
   "source": [
    "pr = [\n",
    "    [1, 0.8, 0.7, 0.4], # 0:  taščica 1\n",
    "    [1, 0.8, 0.6, 0.4], # 1:  taščica 2\n",
    "    [1, 0.9, 0.8, 0.5], # 2:  vrtna penica 1\n",
    "    [1, 0.8, 0.8, 0.6], # 3:  vrtna penica 2\n",
    "    [1, 0.8, 0.8, 0.5], # 4:  vrtna penica 3\n",
    "    [1, 0.9, 0.7, 0.6], # 5:  vrtna penica 4\n",
    "    [1, 0.8, 0.7, 0.4], # 6:  travniška cipa 1\n",
    "    [1, 0.8, 0.8, 0.4], # 7:  travniška cipa 2\n",
    "    [1, 0.7, 0.7, 0.5], # 8:  travniška cipa 3\n",
    "    [1, 0.7, 0.5, 0.4], # 9:  bela pastirica 1\n",
    "    [1, 0.7, 0.7, 0.4], # 10: bela pastirica 2\n",
    "    [1, 0.6, 0.4, 0.1]  # 11: sova\n",
    "]"
   ]
  },
  {
   "cell_type": "code",
   "execution_count": 3,
   "metadata": {
    "collapsed": false
   },
   "outputs": [
   ],
   "source": [
    "n = len(pr)\n",
    "m = len(pr[0])"
   ]
  },
  {
   "cell_type": "code",
   "execution_count": 12,
   "metadata": {
    "collapsed": false
   },
   "outputs": [
   ],
   "source": [
    "p = MixedIntegerLinearProgram(maximization = True)\n",
    "x = p.new_variable(binary = True)"
   ]
  },
  {
   "cell_type": "code",
   "execution_count": 13,
   "metadata": {
    "collapsed": false
   },
   "outputs": [
   ],
   "source": [
    "p.set_objective(sum(sum(j * pr[i][j] * x[i, j] for j in range(1, m)) for i in range(n)))\n",
    "p.add_constraint(sum(sum(j * x[i, j] for j in range(1, m)) for i in range(n)) == 16)\n",
    "p.add_constraint(sum(sum(x[i, j] for j in range(1, m)) for i in [0, 1]) >= 1)\n",
    "p.add_constraint(sum(sum(x[i, j] for j in range(1, m)) for i in [2, 3, 4, 5]) >= 1)\n",
    "p.add_constraint(sum(sum(x[i, j] for j in range(1, m)) for i in [6, 7, 8]) >= 1)\n",
    "p.add_constraint(sum(sum(x[i, j] for j in range(1, m)) for i in [9, 10]) >= 1)\n",
    "p.add_constraint(sum(x[11, j] for j in range(1, m)) >= 1)\n",
    "p.add_constraint(sum(sum(j * x[i, j] for j in range(1, m)) for i in [0, 1]) >=\n",
    "                 sum(sum(x[i, j] for j in range(1, m)) for i in [9, 10]) + 1)\n",
    "p.add_constraint(x[0, 2] + x[0, 3] + x[10, 1] + x[10, 2] + x[10, 3] <= 1)\n",
    "\n",
    "for i in range(n):\n",
    "    p.add_constraint(sum(x[i, j] for j in range(1, m)) <= 1)"
   ]
  },
  {
   "cell_type": "code",
   "execution_count": 14,
   "metadata": {
    "collapsed": false
   },
   "outputs": [
    {
     "data": {
      "text/plain": [
       "12.4"
      ]
     },
     "execution_count": 14,
     "metadata": {
     },
     "output_type": "execute_result"
    }
   ],
   "source": [
    "p.solve()"
   ]
  },
  {
   "cell_type": "code",
   "execution_count": 15,
   "metadata": {
    "collapsed": false
   },
   "outputs": [
   ],
   "source": [
    "res = p.get_values(x)"
   ]
  },
  {
   "cell_type": "code",
   "execution_count": 16,
   "metadata": {
    "collapsed": false
   },
   "outputs": [
    {
     "data": {
      "text/plain": [
       "{(0, 1): 1.0,\n",
       " (0, 2): 0.0,\n",
       " (0, 3): 0.0,\n",
       " (1, 1): 1.0,\n",
       " (1, 2): 0.0,\n",
       " (1, 3): 0.0,\n",
       " (2, 1): 0.0,\n",
       " (2, 2): 1.0,\n",
       " (2, 3): 0.0,\n",
       " (3, 1): 0.0,\n",
       " (3, 2): 1.0,\n",
       " (3, 3): 0.0,\n",
       " (4, 1): 0.0,\n",
       " (4, 2): 1.0,\n",
       " (4, 3): 0.0,\n",
       " (5, 1): 1.0,\n",
       " (5, 2): 0.0,\n",
       " (5, 3): 0.0,\n",
       " (6, 1): 1.0,\n",
       " (6, 2): 0.0,\n",
       " (6, 3): 0.0,\n",
       " (7, 1): 0.0,\n",
       " (7, 2): 1.0,\n",
       " (7, 3): 0.0,\n",
       " (8, 1): 0.0,\n",
       " (8, 2): 1.0,\n",
       " (8, 3): 0.0,\n",
       " (9, 1): 1.0,\n",
       " (9, 2): 0.0,\n",
       " (9, 3): 0.0,\n",
       " (10, 1): 0.0,\n",
       " (10, 2): 0.0,\n",
       " (10, 3): 0.0,\n",
       " (11, 1): 1.0,\n",
       " (11, 2): 0.0,\n",
       " (11, 3): 0.0}"
      ]
     },
     "execution_count": 16,
     "metadata": {
     },
     "output_type": "execute_result"
    }
   ],
   "source": [
    "res"
   ]
  },
  {
   "cell_type": "code",
   "execution_count": 17,
   "metadata": {
    "collapsed": false
   },
   "outputs": [
    {
     "data": {
      "text/plain": [
       "{0: 1, 1: 1, 2: 2, 3: 2, 4: 2, 5: 1, 6: 1, 7: 2, 8: 2, 9: 1, 11: 1}"
      ]
     },
     "execution_count": 17,
     "metadata": {
     },
     "output_type": "execute_result"
    }
   ],
   "source": [
    "kuk = {i: j for (i, j), v in res.items() if v == 1}\n",
    "kuk"
   ]
  }
 ],
 "metadata": {
  "kernelspec": {
   "display_name": "SageMath (stable)",
   "name": "sagemath"
  },
  "language_info": {
   "codemirror_mode": {
    "name": "ipython",
    "version": 2
   },
   "file_extension": ".py",
   "mimetype": "text/x-python",
   "name": "python",
   "nbconvert_exporter": "python",
   "pygments_lexer": "ipython2",
   "version": "2.7.14"
  }
 },
 "nbformat": 4,
 "nbformat_minor": 0
}