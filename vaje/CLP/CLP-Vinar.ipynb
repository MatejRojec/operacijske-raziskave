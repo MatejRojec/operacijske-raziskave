{
 "cells": [
  {
   "cell_type": "code",
   "execution_count": 1,
   "metadata": {
    "collapsed": false
   },
   "outputs": [
   ],
   "source": [
    "A, B, C = \"K\", \"L\", \"Z\"\n",
    "sA, sB, sC = \"RR\", \"LR\", \"RM\""
   ]
  },
  {
   "cell_type": "code",
   "execution_count": 2,
   "metadata": {
    "collapsed": false
   },
   "outputs": [
   ],
   "source": [
    "p = MixedIntegerLinearProgram(maximization = True)\n",
    "x = p.new_variable(binary = True)"
   ]
  },
  {
   "cell_type": "code",
   "execution_count": 3,
   "metadata": {
    "collapsed": false
   },
   "outputs": [
   ],
   "source": [
    "p.set_objective(x[\"RM\", \"K\"] * 2000 + x[\"RM\", \"L\"] * 2200 + x[\"RM\", \"Z\"] * 750 + x[\"RM\", \"O\"] * 1800 +\n",
    "                x[\"LR\", \"K\"] * 10000 + x[\"LR\", \"L\"] * 5500 + x[\"LR\", \"Z\"] * 750 + x[\"LR\", \"O\"] * 1800 +\n",
    "                x[\"RR\", \"K\"] * 5000 + x[\"RR\", \"L\"] * 5500 + x[\"RR\", \"Z\"] * 750 + x[\"RR\", \"O\"] * 1800)"
   ]
  },
  {
   "cell_type": "code",
   "execution_count": 4,
   "metadata": {
    "collapsed": false
   },
   "outputs": [
   ],
   "source": [
    "sorte = [\"RM\", \"LR\", \"RR\"]\n",
    "stranke = [\"K\", \"L\", \"Z\", \"O\"]"
   ]
  },
  {
   "cell_type": "code",
   "execution_count": 5,
   "metadata": {
    "collapsed": false
   },
   "outputs": [
   ],
   "source": [
    "for i in sorte:\n",
    "    p.add_constraint(sum(x[i, j] for j in stranke) <= 1)\n",
    "for j in stranke:\n",
    "    p.add_constraint(sum(x[i, j] for i in sorte) <= 1)\n",
    "p.add_constraint(x[\"RM\", \"O\"] + x[\"LR\", \"O\"] == 0)\n",
    "p.add_constraint(x[\"LR\", \"K\"] <= x[\"RM\", \"L\"])\n",
    "p.add_constraint(sum(x[i, \"O\"] + x[i, \"Z\"] - x[i, \"K\"] for i in sorte) >= 0)\n",
    "p.add_constraint(x[sA, A] + x[sB, B] + sum(x[sC, j] for j in stranke if j != C) <= 2)"
   ]
  },
  {
   "cell_type": "code",
   "execution_count": 6,
   "metadata": {
    "collapsed": false
   },
   "outputs": [
    {
     "data": {
      "text/plain": [
       "14000.0"
      ]
     },
     "execution_count": 6,
     "metadata": {
     },
     "output_type": "execute_result"
    }
   ],
   "source": [
    "p.solve()"
   ]
  },
  {
   "cell_type": "code",
   "execution_count": 7,
   "metadata": {
    "collapsed": false
   },
   "outputs": [
    {
     "data": {
      "text/plain": [
       "{('LR', 'K'): 1.0,\n",
       " ('LR', 'L'): 0.0,\n",
       " ('LR', 'O'): 0.0,\n",
       " ('LR', 'Z'): 0.0,\n",
       " ('RM', 'K'): 0.0,\n",
       " ('RM', 'L'): 1.0,\n",
       " ('RM', 'O'): 0.0,\n",
       " ('RM', 'Z'): 0.0,\n",
       " ('RR', 'K'): 0.0,\n",
       " ('RR', 'L'): 0.0,\n",
       " ('RR', 'O'): 1.0,\n",
       " ('RR', 'Z'): 0.0}"
      ]
     },
     "execution_count": 7,
     "metadata": {
     },
     "output_type": "execute_result"
    }
   ],
   "source": [
    "res = p.get_values(x)\n",
    "res"
   ]
  },
  {
   "cell_type": "code",
   "execution_count": 8,
   "metadata": {
    "collapsed": false
   },
   "outputs": [
    {
     "data": {
      "text/plain": [
       "{'LR': 'K', 'RM': 'L', 'RR': 'O'}"
      ]
     },
     "execution_count": 8,
     "metadata": {
     },
     "output_type": "execute_result"
    }
   ],
   "source": [
    "{i: j for (i, j), v in res.items() if v == 1}"
   ]
  }
 ],
 "metadata": {
  "kernelspec": {
   "display_name": "SageMath (stable)",
   "name": "sagemath"
  },
  "language_info": {
   "codemirror_mode": {
    "name": "ipython",
    "version": 2
   },
   "file_extension": ".py",
   "mimetype": "text/x-python",
   "name": "python",
   "nbconvert_exporter": "python",
   "pygments_lexer": "ipython2",
   "version": "2.7.14"
  }
 },
 "nbformat": 4,
 "nbformat_minor": 0
}